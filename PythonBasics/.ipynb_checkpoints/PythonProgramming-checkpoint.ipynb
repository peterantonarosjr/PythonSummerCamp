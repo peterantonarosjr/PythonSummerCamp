{
 "cells": [
  {
   "cell_type": "markdown",
   "id": "5a370d51",
   "metadata": {},
   "source": [
    "# Welcome to Python Camp 2022"
   ]
  },
  {
   "cell_type": "markdown",
   "id": "1f3fb551",
   "metadata": {},
   "source": [
    "## Introduction"
   ]
  },
  {
   "cell_type": "markdown",
   "id": "9c0bca46",
   "metadata": {},
   "source": [
    "### What is Python?"
   ]
  },
  {
   "cell_type": "markdown",
   "id": "88ecc519",
   "metadata": {},
   "source": [
    "Python is a high level programming lannguage used in various scientific fields including Computer Science, Mathematics, Physics, and Biology. "
   ]
  },
  {
   "cell_type": "markdown",
   "id": "fddd1de7",
   "metadata": {},
   "source": [
    "### Why Python?"
   ]
  },
  {
   "cell_type": "markdown",
   "id": "7e930b1c",
   "metadata": {},
   "source": [
    "We will be using Python for this camp because it is a beginner friendly lannguage that is also extrememly powerful."
   ]
  },
  {
   "cell_type": "markdown",
   "id": "4346563f",
   "metadata": {},
   "source": [
    "### Python versus Other Languages"
   ]
  },
  {
   "cell_type": "markdown",
   "id": "c2e521b2",
   "metadata": {},
   "source": [
    "Python can be used as either a scripting language or as a traditional object oriented language. Many people prefer to use Python when they want to turn an idea they have into actual code...QUICKLY"
   ]
  },
  {
   "cell_type": "markdown",
   "id": "638b7431",
   "metadata": {},
   "source": [
    "## Hello World First Program\n",
    "\n",
    "In our Project Directory in the Pycharm IDE we want to create a new file called main.py\n",
    "\n",
    "In this file we will insert the following code...\n",
    "\n",
    "    ```print(\"Hello World\")```"
   ]
  },
  {
   "cell_type": "code",
   "execution_count": 38,
   "id": "da5efa65",
   "metadata": {},
   "outputs": [
    {
     "name": "stdout",
     "output_type": "stream",
     "text": [
      "Hello World\n"
     ]
    }
   ],
   "source": [
    "print(\"Hello World\")"
   ]
  },
  {
   "cell_type": "markdown",
   "id": "eb0bb636",
   "metadata": {},
   "source": [
    "### More About  the print() Function"
   ]
  },
  {
   "cell_type": "markdown",
   "id": "2994c87b",
   "metadata": {},
   "source": [
    "```print()``` is a function that takes in a *parameter* and displays it to the screen"
   ]
  },
  {
   "cell_type": "code",
   "execution_count": 39,
   "id": "cdb4cb60",
   "metadata": {},
   "outputs": [
    {
     "name": "stdout",
     "output_type": "stream",
     "text": [
      "Hello Class!\n"
     ]
    }
   ],
   "source": [
    "print(\"Hello Class!\")"
   ]
  },
  {
   "cell_type": "code",
   "execution_count": 40,
   "id": "2b474aae",
   "metadata": {},
   "outputs": [
    {
     "name": "stdout",
     "output_type": "stream",
     "text": [
      "Summer Camp 2022 :)\n"
     ]
    }
   ],
   "source": [
    "print(\"Summer Camp 2022 :)\")"
   ]
  },
  {
   "cell_type": "markdown",
   "id": "ee298ed2",
   "metadata": {},
   "source": [
    "```print()``` can also take in numbers, perform arithmetic operations and display the result"
   ]
  },
  {
   "cell_type": "code",
   "execution_count": 41,
   "id": "5c43e6ed",
   "metadata": {},
   "outputs": [
    {
     "name": "stdout",
     "output_type": "stream",
     "text": [
      "12\n"
     ]
    }
   ],
   "source": [
    "print(10+2)"
   ]
  },
  {
   "cell_type": "code",
   "execution_count": 42,
   "id": "a279d9ef",
   "metadata": {
    "scrolled": false
   },
   "outputs": [
    {
     "name": "stdout",
     "output_type": "stream",
     "text": [
      "100\n"
     ]
    }
   ],
   "source": [
    "print(10*10)"
   ]
  },
  {
   "cell_type": "markdown",
   "id": "eec441a0",
   "metadata": {},
   "source": [
    "Someone give me two numbers to add/subtract/multiply/divide and tell me what you think the result will be"
   ]
  },
  {
   "cell_type": "code",
   "execution_count": 55,
   "id": "fd77d2b5",
   "metadata": {},
   "outputs": [],
   "source": [
    "#Sidenote, hashtags are used for comments. Its similar to // in Javascript. The computer will not run this\n",
    "#numberA = \n",
    "#numberB =\n",
    "#print()"
   ]
  },
  {
   "cell_type": "markdown",
   "id": "16ccc8d2",
   "metadata": {},
   "source": [
    "## Variables"
   ]
  },
  {
   "cell_type": "markdown",
   "id": "5b713723",
   "metadata": {},
   "source": [
    "Variables are simply a placeholder for some value\n",
    "\n",
    "The structure of assigning a variable is...\n",
    "\n",
    "VARIABLE_NAME = VALUE\n",
    "\n",
    "The three components are the name of your variable, and equals sign, and the value you want it set to "
   ]
  },
  {
   "cell_type": "code",
   "execution_count": 43,
   "id": "6166e5b9",
   "metadata": {},
   "outputs": [],
   "source": [
    "name = \"Peter\""
   ]
  },
  {
   "cell_type": "markdown",
   "id": "38f69bc7",
   "metadata": {},
   "source": [
    "We can combine this idea of a variable with the print function with the following code\n",
    "\n",
    "```\n",
    "name = \"Peter\"\n",
    "print(name)\n",
    "\n",
    "```\n",
    "This will return the word...Peter\n",
    "\n",
    "We use double quotations to let Python know that our VALUE is a String or informally a word"
   ]
  },
  {
   "cell_type": "code",
   "execution_count": 44,
   "id": "0d9c88a2",
   "metadata": {},
   "outputs": [
    {
     "name": "stdout",
     "output_type": "stream",
     "text": [
      "Peter\n"
     ]
    }
   ],
   "source": [
    "print(name)"
   ]
  },
  {
   "cell_type": "markdown",
   "id": "ec5675e5",
   "metadata": {},
   "source": [
    "The same idea also applies to numbers. \n",
    "\n",
    "Remember we don't need quotes here because Python will then assume we are trying to add words"
   ]
  },
  {
   "cell_type": "code",
   "execution_count": 45,
   "id": "175842e9",
   "metadata": {
    "scrolled": true
   },
   "outputs": [
    {
     "name": "stdout",
     "output_type": "stream",
     "text": [
      "10\n"
     ]
    }
   ],
   "source": [
    "number = 10\n",
    "print(number)"
   ]
  },
  {
   "cell_type": "markdown",
   "id": "e380ef42",
   "metadata": {},
   "source": [
    "I want someone to come up and print out their own name"
   ]
  },
  {
   "cell_type": "code",
   "execution_count": 54,
   "id": "6a42b7c9",
   "metadata": {},
   "outputs": [],
   "source": [
    "#Remove the hastags from the next two lines and print out your name\n",
    "\n",
    "#name=\"\"\n",
    "#print()"
   ]
  },
  {
   "cell_type": "markdown",
   "id": "8709d265",
   "metadata": {},
   "source": [
    "## Lists"
   ]
  },
  {
   "cell_type": "markdown",
   "id": "c188cd8b",
   "metadata": {},
   "source": [
    "We can now talk about two very important things...Lists and Tuples\n",
    "\n",
    "What is a list?\n",
    "\n",
    "A list is just a collection of elements. The length or size of the list can be changed."
   ]
  },
  {
   "cell_type": "code",
   "execution_count": 46,
   "id": "6b205e85",
   "metadata": {},
   "outputs": [
    {
     "name": "stdout",
     "output_type": "stream",
     "text": [
      "[0, 1, 2, 3]\n"
     ]
    }
   ],
   "source": [
    "myList = [0,1,2,3]\n",
    "print(myList)"
   ]
  },
  {
   "cell_type": "markdown",
   "id": "7197cc2d",
   "metadata": {},
   "source": [
    "Notice here the special syntax we need to remember is that a list uses ```[]``` brackets\n",
    "\n",
    "Lists are also zero indexed which means that if we want to get the first element we use\n",
    "\n",
    "```\n",
    "myList[0]\n",
    "\n",
    "```\n",
    "\n",
    "In many programming languages and across much of Computer Science the first number we start with is 0\n",
    "\n",
    "I can add something to the end of the list with\n",
    "```\n",
    ".append(VALUE)\n",
    "```"
   ]
  },
  {
   "cell_type": "code",
   "execution_count": 47,
   "id": "3452c6f7",
   "metadata": {},
   "outputs": [
    {
     "name": "stdout",
     "output_type": "stream",
     "text": [
      "[0, 1, 2, 3, 100]\n"
     ]
    }
   ],
   "source": [
    "myList.append(100)\n",
    "print(myList)"
   ]
  },
  {
   "cell_type": "markdown",
   "id": "de97cf69",
   "metadata": {},
   "source": [
    "I can insert something into the list with \n",
    "\n",
    "```\n",
    ".insert(POSITION,VALUE)\n",
    "```"
   ]
  },
  {
   "cell_type": "code",
   "execution_count": 48,
   "id": "de0d16d7",
   "metadata": {},
   "outputs": [
    {
     "name": "stdout",
     "output_type": "stream",
     "text": [
      "[-100, 0, 1, 2, 3, 100]\n"
     ]
    }
   ],
   "source": [
    "myList.insert(0,-100)\n",
    "print(myList)"
   ]
  },
  {
   "cell_type": "markdown",
   "id": "b7fdd1b6",
   "metadata": {},
   "source": [
    "I can also remove something from my list with \n",
    "\n",
    "```\n",
    ".remove(VALUE)\n",
    "```"
   ]
  },
  {
   "cell_type": "code",
   "execution_count": 49,
   "id": "2221b4d2",
   "metadata": {},
   "outputs": [
    {
     "name": "stdout",
     "output_type": "stream",
     "text": [
      "[-100, 1, 2, 3, 100]\n"
     ]
    }
   ],
   "source": [
    "myList.remove(0)\n",
    "print(myList)"
   ]
  },
  {
   "cell_type": "markdown",
   "id": "59e26565",
   "metadata": {},
   "source": [
    "I want someone to come up remove the number 1 from this list and add in your favorite number"
   ]
  },
  {
   "cell_type": "code",
   "execution_count": 53,
   "id": "9135f2ab",
   "metadata": {},
   "outputs": [],
   "source": [
    "#Remove the hashtags from the following lines\n",
    "\n",
    "#myList.\n",
    "#myList.\n",
    "#print(myList)"
   ]
  },
  {
   "cell_type": "markdown",
   "id": "c8a45bf7",
   "metadata": {},
   "source": [
    "## For Loops"
   ]
  },
  {
   "cell_type": "markdown",
   "id": "cb94d83b",
   "metadata": {},
   "source": [
    "A for loop is a way to move through each value in a list or over a range of numbers\n",
    "\n",
    "The structure of a for loop looks something like\n",
    "\n",
    "```\n",
    "for i in LIST:\n",
    "    print(i)\n",
    "```\n",
    "\n",
    "OR\n",
    "\n",
    "```\n",
    "for i in range(10)\n",
    "    print(i)\n",
    "```"
   ]
  },
  {
   "cell_type": "code",
   "execution_count": 56,
   "id": "18b154b0",
   "metadata": {
    "scrolled": true
   },
   "outputs": [
    {
     "name": "stdout",
     "output_type": "stream",
     "text": [
      "-100\n",
      "1\n",
      "2\n",
      "3\n",
      "100\n"
     ]
    }
   ],
   "source": [
    "for i in myList:\n",
    "    print(i)"
   ]
  },
  {
   "cell_type": "code",
   "execution_count": 57,
   "id": "24d5e758",
   "metadata": {
    "scrolled": true
   },
   "outputs": [
    {
     "name": "stdout",
     "output_type": "stream",
     "text": [
      "0\n",
      "1\n",
      "2\n",
      "3\n",
      "4\n",
      "5\n",
      "6\n",
      "7\n",
      "8\n",
      "9\n"
     ]
    }
   ],
   "source": [
    "for i in range(10):\n",
    "    print(i)"
   ]
  },
  {
   "cell_type": "code",
   "execution_count": null,
   "id": "c692e155",
   "metadata": {},
   "outputs": [],
   "source": [
    "#What would I need to fill in so that we get the first 15 numbers (treating 0 as the first number)\n",
    "#Remove the hashtags to run the code\n",
    "#for i in range():\n",
    "    #print()"
   ]
  },
  {
   "cell_type": "markdown",
   "id": "9e90321b",
   "metadata": {},
   "source": [
    "## Functions"
   ]
  },
  {
   "cell_type": "markdown",
   "id": "8385577f",
   "metadata": {},
   "source": [
    "Functions are a way to save on writing code by 'saving' a task so that we can do it whenever we want\n",
    "\n",
    "To create a function in Python we use the key word ```def``` which is short for define\n",
    "\n",
    "The structure of a Python function is...\n",
    "\n",
    "```\n",
    "def FUNCTION_NAME(PARAMETER1,PARAMETER2,...):\n",
    "    DO STUFF HERE\n",
    "    return BLAH\n",
    "```"
   ]
  },
  {
   "cell_type": "code",
   "execution_count": 58,
   "id": "6e25cfb5",
   "metadata": {},
   "outputs": [],
   "source": [
    "#This is an example of a function that will badd to numbers together\n",
    "def add(num1,num2):\n",
    "    return num1+num2"
   ]
  },
  {
   "cell_type": "code",
   "execution_count": 62,
   "id": "e8297864",
   "metadata": {
    "scrolled": true
   },
   "outputs": [
    {
     "data": {
      "text/plain": [
       "30"
      ]
     },
     "execution_count": 62,
     "metadata": {},
     "output_type": "execute_result"
    }
   ],
   "source": [
    "add(10,20)"
   ]
  },
  {
   "cell_type": "markdown",
   "id": "28da5ed6",
   "metadata": {},
   "source": [
    "You can see that this would be useful if we have a lot of tasks that we want to do multiple times throughout our program\n",
    "\n",
    "Instead of having to retype them each time we can simply call our function and have a result!"
   ]
  },
  {
   "cell_type": "code",
   "execution_count": 63,
   "id": "d2d16aa5",
   "metadata": {},
   "outputs": [],
   "source": [
    "#Can someone tell me what the output of the code will be?\n",
    "\n",
    "def petersCoolFunction(num1,num2,num3):\n",
    "    a = num1+num2\n",
    "    b = num2+num3\n",
    "    return a+b\n",
    "\n",
    "#petersCoolFunction(1,2,3)"
   ]
  },
  {
   "cell_type": "markdown",
   "id": "cec29e84",
   "metadata": {},
   "source": [
    "## Classes"
   ]
  },
  {
   "cell_type": "markdown",
   "id": "af48e3e0",
   "metadata": {},
   "source": [
    "Now that we are comfortable with the basics we will dive into something called Object Oriented Programming\n",
    "\n",
    "Object Oriented Programming is a way of treating programming in terms of objects\n",
    "\n",
    "An object is nothing more than a thing with properties\n",
    "\n",
    "I can say lets think of our 'thing' to be a chair and lets see what the properties of a chair are\n",
    "\n",
    "    * Number of legs\n",
    "    * Height\n",
    "    * Width\n",
    "    * Length\n",
    "and so on\n",
    "\n",
    "\n",
    "This is super useful when programming a game which we will be doing!\n",
    "\n",
    "We can think of two objects\n",
    "\n",
    "HERO OBJECT and ENEMY OBJECT\n",
    "\n",
    "What would be some properties for these two objects?"
   ]
  },
  {
   "cell_type": "markdown",
   "id": "911ad079",
   "metadata": {},
   "source": [
    "## Cool Python Code Examples"
   ]
  },
  {
   "cell_type": "code",
   "execution_count": 3,
   "id": "627fd584",
   "metadata": {},
   "outputs": [],
   "source": [
    "import matplotlib.pyplot as plt\n",
    "import cv2\n",
    "import numpy as np\n",
    "from IPython.display import display, Image\n",
    "import ipywidgets as widgets\n",
    "import threading"
   ]
  },
  {
   "cell_type": "code",
   "execution_count": 6,
   "id": "e978599a",
   "metadata": {},
   "outputs": [
    {
     "ename": "error",
     "evalue": "OpenCV(4.6.0) /io/opencv/modules/highgui/src/window.cpp:967: error: (-215:Assertion failed) size.width>0 && size.height>0 in function 'imshow'\n",
     "output_type": "error",
     "traceback": [
      "\u001b[0;31m---------------------------------------------------------------------------\u001b[0m",
      "\u001b[0;31merror\u001b[0m                                     Traceback (most recent call last)",
      "\u001b[0;32m<ipython-input-6-bb663a73ddf6>\u001b[0m in \u001b[0;36m<module>\u001b[0;34m\u001b[0m\n\u001b[1;32m      5\u001b[0m \u001b[0;32mwhile\u001b[0m \u001b[0;32mTrue\u001b[0m\u001b[0;34m:\u001b[0m\u001b[0;34m\u001b[0m\u001b[0;34m\u001b[0m\u001b[0m\n\u001b[1;32m      6\u001b[0m     \u001b[0msuccess\u001b[0m\u001b[0;34m,\u001b[0m \u001b[0mimg\u001b[0m \u001b[0;34m=\u001b[0m \u001b[0mcap\u001b[0m\u001b[0;34m.\u001b[0m\u001b[0mread\u001b[0m\u001b[0;34m(\u001b[0m\u001b[0;34m)\u001b[0m\u001b[0;34m\u001b[0m\u001b[0;34m\u001b[0m\u001b[0m\n\u001b[0;32m----> 7\u001b[0;31m     \u001b[0mcv2\u001b[0m\u001b[0;34m.\u001b[0m\u001b[0mimshow\u001b[0m\u001b[0;34m(\u001b[0m\u001b[0;34m\"Webcam\"\u001b[0m\u001b[0;34m,\u001b[0m \u001b[0mimg\u001b[0m\u001b[0;34m)\u001b[0m \u001b[0;31m# This will open an independent window\u001b[0m\u001b[0;34m\u001b[0m\u001b[0;34m\u001b[0m\u001b[0m\n\u001b[0m\u001b[1;32m      8\u001b[0m     \u001b[0;32mif\u001b[0m \u001b[0mcv2\u001b[0m\u001b[0;34m.\u001b[0m\u001b[0mwaitKey\u001b[0m\u001b[0;34m(\u001b[0m\u001b[0;36m1\u001b[0m\u001b[0;34m)\u001b[0m \u001b[0;34m&\u001b[0m \u001b[0;36m0xFF\u001b[0m\u001b[0;34m==\u001b[0m\u001b[0mord\u001b[0m\u001b[0;34m(\u001b[0m\u001b[0;34m'q'\u001b[0m\u001b[0;34m)\u001b[0m\u001b[0;34m:\u001b[0m \u001b[0;31m# quit when 'q' is pressed\u001b[0m\u001b[0;34m\u001b[0m\u001b[0;34m\u001b[0m\u001b[0m\n\u001b[1;32m      9\u001b[0m         \u001b[0mcap\u001b[0m\u001b[0;34m.\u001b[0m\u001b[0mrelease\u001b[0m\u001b[0;34m(\u001b[0m\u001b[0;34m)\u001b[0m\u001b[0;34m\u001b[0m\u001b[0;34m\u001b[0m\u001b[0m\n",
      "\u001b[0;31merror\u001b[0m: OpenCV(4.6.0) /io/opencv/modules/highgui/src/window.cpp:967: error: (-215:Assertion failed) size.width>0 && size.height>0 in function 'imshow'\n"
     ]
    }
   ],
   "source": [
    "cap = cv2.VideoCapture(0)\n",
    "cap.set(3,640) # adjust width\n",
    "cap.set(4,480) # adjust height\n",
    "\n",
    "while True:\n",
    "    success, img = cap.read()\n",
    "    cv2.imshow(\"Webcam\", img) # This will open an independent window\n",
    "    if cv2.waitKey(1) & 0xFF==ord('q'): # quit when 'q' is pressed\n",
    "        cap.release()\n",
    "        break\n",
    "        \n",
    "cv2.destroyAllWindows() \n",
    "cv2.waitKey(1)"
   ]
  },
  {
   "cell_type": "code",
   "execution_count": 5,
   "id": "77da2207",
   "metadata": {},
   "outputs": [
    {
     "data": {
      "application/vnd.jupyter.widget-view+json": {
       "model_id": "8c8048f63c2d414589a51e2df8c2b912",
       "version_major": 2,
       "version_minor": 0
      },
      "text/plain": [
       "ToggleButton(value=False, button_style='danger', description='Stop', icon='square', tooltip='Description')"
      ]
     },
     "metadata": {},
     "output_type": "display_data"
    },
    {
     "data": {
      "text/plain": [
       "None"
      ]
     },
     "metadata": {},
     "output_type": "display_data"
    },
    {
     "name": "stderr",
     "output_type": "stream",
     "text": [
      "Exception in thread Thread-4:\n",
      "Traceback (most recent call last):\n",
      "  File \"/home/peterjr/anaconda3/lib/python3.8/threading.py\", line 932, in _bootstrap_inner\n",
      "    self.run()\n",
      "  File \"/home/peterjr/anaconda3/lib/python3.8/threading.py\", line 870, in run\n",
      "    self._target(*self._args, **self._kwargs)\n",
      "  File \"<ipython-input-5-9b3914080145>\", line 22, in view\n",
      "cv2.error: OpenCV(4.6.0) /io/opencv/modules/imgcodecs/src/loadsave.cpp:976: error: (-215:Assertion failed) !image.empty() in function 'imencode'\n",
      "\n"
     ]
    }
   ],
   "source": [
    "# Stop button\n",
    "# ================\n",
    "stopButton = widgets.ToggleButton(\n",
    "    value=False,\n",
    "    description='Stop',\n",
    "    disabled=False,\n",
    "    button_style='danger', # 'success', 'info', 'warning', 'danger' or ''\n",
    "    tooltip='Description',\n",
    "    icon='square' # (FontAwesome names without the `fa-` prefix)\n",
    ")\n",
    "\n",
    "\n",
    "# Display function\n",
    "# ================\n",
    "def view(button):\n",
    "    cap = cv2.VideoCapture(0)\n",
    "    display_handle=display(None, display_id=True)\n",
    "    i = 0\n",
    "    while True:\n",
    "        _, frame = cap.read()\n",
    "        frame = cv2.flip(frame, 1) # if your camera reverses your image\n",
    "        _, frame = cv2.imencode('.jpeg', frame)\n",
    "        display_handle.update(Image(data=frame.tobytes()))\n",
    "        if stopButton.value==True:\n",
    "            cap.release()\n",
    "            display_handle.update(None)\n",
    "\n",
    "            \n",
    "# Run\n",
    "# ================\n",
    "display(stopButton)\n",
    "thread = threading.Thread(target=view, args=(stopButton,))\n",
    "thread.start()"
   ]
  },
  {
   "cell_type": "code",
   "execution_count": null,
   "id": "5e425bba",
   "metadata": {},
   "outputs": [],
   "source": []
  }
 ],
 "metadata": {
  "kernelspec": {
   "display_name": "Python 3 (ipykernel)",
   "language": "python",
   "name": "python3"
  },
  "language_info": {
   "codemirror_mode": {
    "name": "ipython",
    "version": 3
   },
   "file_extension": ".py",
   "mimetype": "text/x-python",
   "name": "python",
   "nbconvert_exporter": "python",
   "pygments_lexer": "ipython3",
   "version": "3.8.8"
  }
 },
 "nbformat": 4,
 "nbformat_minor": 5
}
