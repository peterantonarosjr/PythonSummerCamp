{
 "cells": [
  {
   "cell_type": "markdown",
   "id": "c2838629",
   "metadata": {},
   "source": [
    "# Welcome to Python Camp 2022"
   ]
  },
  {
   "cell_type": "markdown",
   "id": "73ea6a62",
   "metadata": {},
   "source": [
    "## Introduction"
   ]
  },
  {
   "cell_type": "markdown",
   "id": "544aa50c",
   "metadata": {},
   "source": [
    "### What is Python?"
   ]
  },
  {
   "cell_type": "markdown",
   "id": "3771cf0d",
   "metadata": {},
   "source": [
    "Python is a high level programming lannguage used in various scientific fields including Computer Science, Mathematics, Physics, and Biology. "
   ]
  },
  {
   "cell_type": "markdown",
   "id": "32825691",
   "metadata": {},
   "source": [
    "### Why Python?"
   ]
  },
  {
   "cell_type": "markdown",
   "id": "c42d075d",
   "metadata": {},
   "source": [
    "We will be using Python for this camp because it is a beginner friendly lannguage that is also extrememly powerful."
   ]
  },
  {
   "cell_type": "markdown",
   "id": "1b81ab89",
   "metadata": {},
   "source": [
    "### Python versus Other Languages"
   ]
  },
  {
   "cell_type": "markdown",
   "id": "ea93870c",
   "metadata": {},
   "source": [
    "Python can be used as either a scripting language or as a traditional object oriented language. Many people prefer to use Python when they want to turn an idea they have into actual code...QUICKLY"
   ]
  },
  {
   "cell_type": "markdown",
   "id": "39cea754",
   "metadata": {},
   "source": [
    "## Hello World First Program\n",
    "\n",
    "In our Project Directory in the Pycharm IDE we want to create a new file called main.py\n",
    "\n",
    "In this file we will insert the following code...\n",
    "\n",
    "    ```print(\"Hello World\")```"
   ]
  },
  {
   "cell_type": "code",
   "execution_count": 38,
   "id": "638d78e4",
   "metadata": {},
   "outputs": [
    {
     "name": "stdout",
     "output_type": "stream",
     "text": [
      "Hello World\n"
     ]
    }
   ],
   "source": [
    "print(\"Hello World\")"
   ]
  },
  {
   "cell_type": "markdown",
   "id": "3122eeea",
   "metadata": {},
   "source": [
    "### More About  the print() Function"
   ]
  },
  {
   "cell_type": "markdown",
   "id": "6129e2d6",
   "metadata": {},
   "source": [
    "```print()``` is a function that takes in a *parameter* and displays it to the screen"
   ]
  },
  {
   "cell_type": "code",
   "execution_count": 39,
   "id": "058aa2ae",
   "metadata": {},
   "outputs": [
    {
     "name": "stdout",
     "output_type": "stream",
     "text": [
      "Hello Class!\n"
     ]
    }
   ],
   "source": [
    "print(\"Hello Class!\")"
   ]
  },
  {
   "cell_type": "code",
   "execution_count": 40,
   "id": "3049dec3",
   "metadata": {},
   "outputs": [
    {
     "name": "stdout",
     "output_type": "stream",
     "text": [
      "Summer Camp 2022 :)\n"
     ]
    }
   ],
   "source": [
    "print(\"Summer Camp 2022 :)\")"
   ]
  },
  {
   "cell_type": "markdown",
   "id": "e6331f3d",
   "metadata": {},
   "source": [
    "```print()``` can also take in numbers, perform arithmetic operations and display the result"
   ]
  },
  {
   "cell_type": "code",
   "execution_count": 41,
   "id": "3be335ec",
   "metadata": {},
   "outputs": [
    {
     "name": "stdout",
     "output_type": "stream",
     "text": [
      "12\n"
     ]
    }
   ],
   "source": [
    "print(10+2)"
   ]
  },
  {
   "cell_type": "code",
   "execution_count": 42,
   "id": "c5feff57",
   "metadata": {
    "scrolled": false
   },
   "outputs": [
    {
     "name": "stdout",
     "output_type": "stream",
     "text": [
      "100\n"
     ]
    }
   ],
   "source": [
    "print(10*10)"
   ]
  },
  {
   "cell_type": "markdown",
   "id": "168ad6a6",
   "metadata": {},
   "source": [
    "Someone give me two numbers to add/subtract/multiply/divide and tell me what you think the result will be"
   ]
  },
  {
   "cell_type": "code",
   "execution_count": 55,
   "id": "5515ccc5",
   "metadata": {},
   "outputs": [],
   "source": [
    "#Sidenote, hashtags are used for comments. Its similar to // in Javascript. The computer will not run this\n",
    "#numberA = \n",
    "#numberB =\n",
    "#print()"
   ]
  },
  {
   "cell_type": "markdown",
   "id": "7ff94937",
   "metadata": {},
   "source": [
    "## Variables"
   ]
  },
  {
   "cell_type": "markdown",
   "id": "1fc2a336",
   "metadata": {},
   "source": [
    "Variables are simply a placeholder for some value\n",
    "\n",
    "The structure of assigning a variable is...\n",
    "\n",
    "VARIABLE_NAME = VALUE\n",
    "\n",
    "The three components are the name of your variable, and equals sign, and the value you want it set to "
   ]
  },
  {
   "cell_type": "code",
   "execution_count": 43,
   "id": "c0ca205c",
   "metadata": {},
   "outputs": [],
   "source": [
    "name = \"Peter\""
   ]
  },
  {
   "cell_type": "markdown",
   "id": "4fee1705",
   "metadata": {},
   "source": [
    "We can combine this idea of a variable with the print function with the following code\n",
    "\n",
    "```\n",
    "name = \"Peter\"\n",
    "print(name)\n",
    "\n",
    "```\n",
    "This will return the word...Peter\n",
    "\n",
    "We use double quotations to let Python know that our VALUE is a String or informally a word"
   ]
  },
  {
   "cell_type": "code",
   "execution_count": 44,
   "id": "74ef97f8",
   "metadata": {},
   "outputs": [
    {
     "name": "stdout",
     "output_type": "stream",
     "text": [
      "Peter\n"
     ]
    }
   ],
   "source": [
    "print(name)"
   ]
  },
  {
   "cell_type": "markdown",
   "id": "2b7c2412",
   "metadata": {},
   "source": [
    "The same idea also applies to numbers. \n",
    "\n",
    "Remember we don't need quotes here because Python will then assume we are trying to add words"
   ]
  },
  {
   "cell_type": "code",
   "execution_count": 45,
   "id": "900f1227",
   "metadata": {
    "scrolled": true
   },
   "outputs": [
    {
     "name": "stdout",
     "output_type": "stream",
     "text": [
      "10\n"
     ]
    }
   ],
   "source": [
    "number = 10\n",
    "print(number)"
   ]
  },
  {
   "cell_type": "markdown",
   "id": "9de01c22",
   "metadata": {},
   "source": [
    "I want someone to come up and print out their own name"
   ]
  },
  {
   "cell_type": "code",
   "execution_count": 54,
   "id": "173cbaa0",
   "metadata": {},
   "outputs": [],
   "source": [
    "#Remove the hastags from the next two lines and print out your name\n",
    "\n",
    "#name=\"\"\n",
    "#print()"
   ]
  },
  {
   "cell_type": "markdown",
   "id": "cbbe9ddc",
   "metadata": {},
   "source": [
    "## Lists"
   ]
  },
  {
   "cell_type": "markdown",
   "id": "e92b72d1",
   "metadata": {},
   "source": [
    "We can now talk about two very important things...Lists and Tuples\n",
    "\n",
    "What is a list?\n",
    "\n",
    "A list is just a collection of elements. The length or size of the list can be changed."
   ]
  },
  {
   "cell_type": "code",
   "execution_count": 46,
   "id": "fa77762d",
   "metadata": {},
   "outputs": [
    {
     "name": "stdout",
     "output_type": "stream",
     "text": [
      "[0, 1, 2, 3]\n"
     ]
    }
   ],
   "source": [
    "myList = [0,1,2,3]\n",
    "print(myList)"
   ]
  },
  {
   "cell_type": "markdown",
   "id": "16582e8f",
   "metadata": {},
   "source": [
    "Notice here the special syntax we need to remember is that a list uses ```[]``` brackets\n",
    "\n",
    "Lists are also zero indexed which means that if we want to get the first element we use\n",
    "\n",
    "```\n",
    "myList[0]\n",
    "\n",
    "```\n",
    "\n",
    "In many programming languages and across much of Computer Science the first number we start with is 0\n",
    "\n",
    "I can add something to the end of the list with\n",
    "```\n",
    ".append(VALUE)\n",
    "```"
   ]
  },
  {
   "cell_type": "code",
   "execution_count": 47,
   "id": "8e6a0464",
   "metadata": {},
   "outputs": [
    {
     "name": "stdout",
     "output_type": "stream",
     "text": [
      "[0, 1, 2, 3, 100]\n"
     ]
    }
   ],
   "source": [
    "myList.append(100)\n",
    "print(myList)"
   ]
  },
  {
   "cell_type": "markdown",
   "id": "614d8a9e",
   "metadata": {},
   "source": [
    "I can insert something into the list with \n",
    "\n",
    "```\n",
    ".insert(POSITION,VALUE)\n",
    "```"
   ]
  },
  {
   "cell_type": "code",
   "execution_count": 48,
   "id": "65a0203e",
   "metadata": {},
   "outputs": [
    {
     "name": "stdout",
     "output_type": "stream",
     "text": [
      "[-100, 0, 1, 2, 3, 100]\n"
     ]
    }
   ],
   "source": [
    "myList.insert(0,-100)\n",
    "print(myList)"
   ]
  },
  {
   "cell_type": "markdown",
   "id": "9826fbc7",
   "metadata": {},
   "source": [
    "I can also remove something from my list with \n",
    "\n",
    "```\n",
    ".remove(VALUE)\n",
    "```"
   ]
  },
  {
   "cell_type": "code",
   "execution_count": 49,
   "id": "534c0d3c",
   "metadata": {},
   "outputs": [
    {
     "name": "stdout",
     "output_type": "stream",
     "text": [
      "[-100, 1, 2, 3, 100]\n"
     ]
    }
   ],
   "source": [
    "myList.remove(0)\n",
    "print(myList)"
   ]
  },
  {
   "cell_type": "markdown",
   "id": "e4bf201b",
   "metadata": {},
   "source": [
    "I want someone to come up remove the number 1 from this list and add in your favorite number"
   ]
  },
  {
   "cell_type": "code",
   "execution_count": 53,
   "id": "f87e9718",
   "metadata": {},
   "outputs": [],
   "source": [
    "#Remove the hashtags from the following lines\n",
    "\n",
    "#myList.\n",
    "#myList.\n",
    "#print(myList)"
   ]
  },
  {
   "cell_type": "markdown",
   "id": "786f2967",
   "metadata": {},
   "source": [
    "## For Loops"
   ]
  },
  {
   "cell_type": "markdown",
   "id": "1b1abf51",
   "metadata": {},
   "source": [
    "## Functions"
   ]
  },
  {
   "cell_type": "markdown",
   "id": "c540fa5f",
   "metadata": {},
   "source": [
    "## Classes"
   ]
  },
  {
   "cell_type": "code",
   "execution_count": null,
   "id": "89aad7e7",
   "metadata": {},
   "outputs": [],
   "source": []
  }
 ],
 "metadata": {
  "kernelspec": {
   "display_name": "Python 3 (ipykernel)",
   "language": "python",
   "name": "python3"
  },
  "language_info": {
   "codemirror_mode": {
    "name": "ipython",
    "version": 3
   },
   "file_extension": ".py",
   "mimetype": "text/x-python",
   "name": "python",
   "nbconvert_exporter": "python",
   "pygments_lexer": "ipython3",
   "version": "3.8.8"
  }
 },
 "nbformat": 4,
 "nbformat_minor": 5
}
