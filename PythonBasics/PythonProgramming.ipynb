{
 "cells": [
  {
   "cell_type": "markdown",
   "id": "47ada660",
   "metadata": {},
   "source": [
    "# Welcome to Python Camp 2022"
   ]
  },
  {
   "cell_type": "markdown",
   "id": "12b34462",
   "metadata": {},
   "source": [
    "## Introduction"
   ]
  },
  {
   "cell_type": "markdown",
   "id": "21b5213c",
   "metadata": {},
   "source": [
    "### What is Python?"
   ]
  },
  {
   "cell_type": "markdown",
   "id": "c342e879",
   "metadata": {},
   "source": [
    "Python is a high level programming lannguage used in various scientific fields including Computer Science, Mathematics, Physics, and Biology. "
   ]
  },
  {
   "cell_type": "markdown",
   "id": "3efbec4f",
   "metadata": {},
   "source": [
    "### Why Python?"
   ]
  },
  {
   "cell_type": "markdown",
   "id": "9a400319",
   "metadata": {},
   "source": [
    "We will be using Python for this camp because it is a beginner friendly lannguage that is also extrememly powerful."
   ]
  },
  {
   "cell_type": "markdown",
   "id": "ce4f5497",
   "metadata": {},
   "source": [
    "### Python versus Other Languages"
   ]
  },
  {
   "cell_type": "markdown",
   "id": "33a71d24",
   "metadata": {},
   "source": [
    "Python can be used as either a scripting language or as a traditional object oriented language. Many people prefer to use Python when they want to turn an idea they have into actual code...QUICKLY"
   ]
  }
 ],
 "metadata": {
  "kernelspec": {
   "display_name": "Python 3 (ipykernel)",
   "language": "python",
   "name": "python3"
  },
  "language_info": {
   "codemirror_mode": {
    "name": "ipython",
    "version": 3
   },
   "file_extension": ".py",
   "mimetype": "text/x-python",
   "name": "python",
   "nbconvert_exporter": "python",
   "pygments_lexer": "ipython3",
   "version": "3.8.8"
  }
 },
 "nbformat": 4,
 "nbformat_minor": 5
}
